{
 "cells": [
  {
   "cell_type": "markdown",
   "id": "59836952-b7cc-45b0-b338-33088106a638",
   "metadata": {},
   "source": [
    "# <center> Competição Kaggle - Top Vistos"
   ]
  },
  {
   "cell_type": "markdown",
   "id": "dd37fe5d-dbfb-4d7a-8cc3-dd491b2d390e",
   "metadata": {
    "tags": []
   },
   "source": [
    "## Informações da competição"
   ]
  },
  {
   "cell_type": "markdown",
   "id": "8fc3b281-ffbc-415e-8762-fd758346d029",
   "metadata": {
    "jp-MarkdownHeadingCollapsed": true,
    "tags": []
   },
   "source": [
    "### Contexto:"
   ]
  },
  {
   "cell_type": "markdown",
   "id": "0022aa36-e5d3-46db-8748-b82182f8821b",
   "metadata": {},
   "source": [
    "As comunidades empresariais nos Estados Unidos enfrentam uma alta demanda por recursos humanos, mas um dos desafios constantes é identificar e atrair o talento certo, que é talvez o elemento mais importante para se manter competitivo. Empresas nos Estados Unidos procuram indivíduos trabalhadores, talentosos e qualificados tanto localmente quanto no exterior.\n",
    "\n",
    "A Lei de Imigração e Nacionalidade (INA) dos EUA permite que trabalhadores estrangeiros venham trabalhar nos Estados Unidos temporária ou permanentemente. A lei também protege os trabalhadores americanos contra impactos adversos em seus salários ou condições de trabalho, garantindo que os empregadores americanos cumpram os requisitos legais ao contratar trabalhadores estrangeiros para suprir a escassez de mão de obra. Os programas de imigração são administrados pelo Escritório de Certificação de Trabalho Estrangeiro (OFLC).\n",
    "\n",
    "O OFLC processa pedidos de certificação de emprego para empregadores que buscam trazer trabalhadores estrangeiros para os Estados Unidos e concede certificações nos casos em que os empregadores podem demonstrar que não há trabalhadores americanos suficientes disponíveis para realizar o trabalho com salários que atendam ou excedam o salário pago para a ocupação na área de emprego pretendida."
   ]
  },
  {
   "cell_type": "markdown",
   "id": "443faffa-f8bf-4c1a-a0a1-4789e8d626b9",
   "metadata": {
    "jp-MarkdownHeadingCollapsed": true,
    "tags": []
   },
   "source": [
    "### Objetivo:"
   ]
  },
  {
   "cell_type": "markdown",
   "id": "b7910ca8-3c25-40f0-b6b8-527cff5778fd",
   "metadata": {},
   "source": [
    "No ano fiscal de 2016, o OFLC processou 775.979 pedidos de empregadores para 1.699.957 posições de certificações de trabalho temporárias e permanentes. Isso representou um aumento de nove por cento no número total de pedidos processados em relação ao ano anterior. O processo de revisar cada caso está se tornando uma tarefa tediosa à medida que o número de candidatos aumenta a cada ano.\n",
    "\n",
    "O aumento do número de candidatos a cada ano demanda uma solução baseada em Aprendizado de Máquina que possa ajudar na pré-seleção dos candidatos com maiores chances de aprovação de VISTO. O OFLC contratou sua empresa, TopVistos, para soluções baseadas em dados. Como Cientista de Dados, você deve analisar os dados fornecidos e, com a ajuda de um modelo de classificação:\n",
    "\n",
    "- Facilitar o processo de aprovação de vistos.\n",
    "\n",
    "- Recomendar um perfil adequado para os candidatos para os quais o visto deve ser certificado ou negado, com base nos fatores que influenciam significativamente o status do caso."
   ]
  },
  {
   "cell_type": "markdown",
   "id": "675fb213-5e20-4abe-be5e-fab6925d2e84",
   "metadata": {
    "jp-MarkdownHeadingCollapsed": true,
    "tags": []
   },
   "source": [
    "### Descrição do Conjunto de Dados"
   ]
  },
  {
   "cell_type": "markdown",
   "id": "8be98203-22f8-4461-ad34-7061e40c869a",
   "metadata": {},
   "source": [
    "Os dados contêm diferentes atributos do empregado e do empregador. O dicionário de dados detalhado é fornecido abaixo.\n",
    "\n",
    "Temos alguns arquivos disponibilizados para o treino dos modelos. Note que para seu modelo ser corretamente avaliado, você precisa enviar os seus dados no formato do arquivo sample_submission.csv."
   ]
  },
  {
   "cell_type": "markdown",
   "id": "95486cf6-bee2-4510-92df-7689084e8ea4",
   "metadata": {
    "jp-MarkdownHeadingCollapsed": true,
    "tags": []
   },
   "source": [
    "### Arquivos"
   ]
  },
  {
   "cell_type": "markdown",
   "id": "59702907-5c58-4734-993e-7f864f4f0f21",
   "metadata": {},
   "source": [
    "- train.csv - dataset de treino\n",
    "- test.csv - dataset de testes\n",
    "- sample_submission.csv - um exemplo de como o arquivo enviado deve ser composto"
   ]
  },
  {
   "cell_type": "markdown",
   "id": "f3ef0398-7d22-4b46-aa9b-405ee826f9f9",
   "metadata": {
    "tags": []
   },
   "source": [
    "### Dicionário dos Dados"
   ]
  },
  {
   "cell_type": "markdown",
   "id": "77d4c0cf-243b-4719-8d12-57e06783d365",
   "metadata": {},
   "source": [
    "- id_do_caso: ID de cada solicitação de visto\n",
    "- continente: Informação do continente do empregado\n",
    "- educação_do_empregado: Informação sobre a educação do empregado\n",
    "- tem_experiência_de_trabalho: O empregado possui alguma experiência de trabalho? S = Sim; N = Não\n",
    "- requer_treinamento_de_trabalho: O empregado requer algum treinamento de trabalho? S = Sim; N = Não\n",
    "- num_de_empregados: Número de funcionários na empresa do empregador\n",
    "- ano_de_estabelecimento: Ano em que a empresa do empregador foi estabelecida\n",
    "- região_de_emprego: Informação da região de emprego pretendida pelo trabalhador estrangeiro nos EUA.\n",
    "- salário_prevalecente: Salário médio pago a trabalhadores em ocupações semelhantes na área de emprego pretendida. O objetivo do salário prevalecente é garantir que o trabalhador estrangeiro não seja subremunerado em comparação com outros trabalhadores que oferecem o mesmo serviço ou serviço similar na mesma área de emprego.\n",
    "- unidade_de_salário: Unidade do salário prevalecente. Os valores incluem Por Hora, Por Semana, Por Mês e Por Ano.\n",
    "- posição_em_tempo_integral: A posição de trabalho é em tempo integral? S = Posição em Tempo Integral; N = Posição em Meio Período\n",
    "- status_do_caso: Indicador se o visto foi certificado ou negado"
   ]
  },
  {
   "cell_type": "markdown",
   "id": "c7ff4a61-a78d-40c7-a20a-1a60c5f0dc34",
   "metadata": {},
   "source": [
    "## Pré-processamento"
   ]
  },
  {
   "cell_type": "markdown",
   "id": "50403e39-be25-421f-9297-fa8079e0f128",
   "metadata": {},
   "source": [
    "### Importação das bibliotecas"
   ]
  },
  {
   "cell_type": "code",
   "execution_count": 2,
   "id": "a8a7326d-4f33-420c-9c92-3bf6290904ff",
   "metadata": {
    "tags": []
   },
   "outputs": [],
   "source": [
    "import pandas as pd\n",
    "import numpy as np\n",
    "import matplotlib.pyplot as plt\n",
    "#import statsmodels.api as sm\n",
    "import math\n",
    "import unidecode"
   ]
  },
  {
   "cell_type": "markdown",
   "id": "ec8893cf-00b7-4459-ae9b-212959dd5f55",
   "metadata": {},
   "source": [
    "### Alteração de configuração de display do pandas"
   ]
  },
  {
   "cell_type": "code",
   "execution_count": 3,
   "id": "d3903933-9869-404e-b515-2f3719a0ef34",
   "metadata": {
    "tags": []
   },
   "outputs": [],
   "source": [
    "pd.options.display.float_format = \"{:,.4f}\".format"
   ]
  },
  {
   "cell_type": "markdown",
   "id": "e34d033a-4875-4892-bb02-9c99a8bb8c0f",
   "metadata": {},
   "source": [
    "### Importação das bases de dados"
   ]
  },
  {
   "cell_type": "code",
   "execution_count": 4,
   "id": "eea71da3-ca51-4aa3-97ca-bbde5b92edc3",
   "metadata": {
    "tags": []
   },
   "outputs": [],
   "source": [
    "df_train = pd.read_csv(r\"..\\Databases\\train.csv\")\n",
    "df_test = pd.read_csv(r\"..\\Databases\\test.csv\")\n",
    "df_submission = pd.read_csv(r\"..\\Databases\\sample_submission.csv\")"
   ]
  },
  {
   "cell_type": "markdown",
   "id": "d258ea16-db59-4776-bbb9-9c8d8fba98d8",
   "metadata": {},
   "source": [
    "### Anualização do salário prevalecente"
   ]
  },
  {
   "cell_type": "markdown",
   "id": "714525c1-ed5b-4ff1-b760-001fccb5e658",
   "metadata": {},
   "source": [
    "Considerando que a base apresenta os salários prevalecentes em escalas diferentes, foi necessário normalizá-los para que as informações sejam condizentes. Para isso, foram utilizados como padrão de anualização da unidade salarial as seguintes constantes:\n",
    "\n",
    "- Ano: 1, pois já é o próprio valor anualizado\n",
    "- Mês: 12, pois é o número de meses em 1 ano\n",
    "- Semana: 52, pois é o número aproximado de semanas em 1 ano\n",
    "- Hora: 2080, pois é o número de horas trabalhadas em média por semana (40 horas) multiplicado pelo número de semanas (52 semanas)\n",
    "\n",
    "Os trabalhos que são full-time ou part-time aparentam demonstrar o valor de salário prevalecente já considerando a escala de trabalho e, por esta razão, não foram divididos por 2 para normalizar com a carga full-time."
   ]
  },
  {
   "cell_type": "code",
   "execution_count": 5,
   "id": "1d2e1b78-d99f-46df-9675-91d56c111358",
   "metadata": {
    "tags": []
   },
   "outputs": [],
   "source": [
    "dictionary_unidadesalario = {'Ano':1, 'Semana':52, 'Hora':2080, 'Mês':12}"
   ]
  },
  {
   "cell_type": "code",
   "execution_count": 6,
   "id": "18a98d36-6bff-4e3a-aab7-519e0b74e2db",
   "metadata": {
    "tags": []
   },
   "outputs": [],
   "source": [
    "lista_salario_anual = []\n",
    "\n",
    "for row in range(df_train.shape[0]):\n",
    "    lista_salario_anual.append(round(dictionary_unidadesalario[df_train.unidade_de_salario[row]] * df_train.salario_prevalecente[row], 2))"
   ]
  },
  {
   "cell_type": "code",
   "execution_count": 7,
   "id": "ee61fcde-98e1-4a4f-8ff7-8ec4d7ef55d8",
   "metadata": {
    "tags": []
   },
   "outputs": [],
   "source": [
    "df_train[\"salario_prevalecente_anualizado\"] = lista_salario_anual"
   ]
  },
  {
   "cell_type": "markdown",
   "id": "fb8aabca-6b67-4d59-837d-2baf326d3cba",
   "metadata": {
    "tags": []
   },
   "source": [
    "### Segregação das bases de modelo das bases descritivas"
   ]
  },
  {
   "cell_type": "markdown",
   "id": "00afe928-1543-4ba7-9528-be4f8d537b2a",
   "metadata": {},
   "source": [
    "Para facilitar a análise da estatística descritiva e da execução do modelo de Machine Learning, foram segregadas em duas bases que foram processadas de forma diferencia. As bases com sufixo \"desc\" representam as bases de estatística descritiva e mantêm os dados em seus formatos originais. Já as bases sem sufixo representam as bases que serão processadas no modelo e têm diversos tipos de manipulação de dados para adequá-los e facilitar o processamento."
   ]
  },
  {
   "cell_type": "code",
   "execution_count": 8,
   "id": "0e671c15-59b9-4791-8295-1eda81aca766",
   "metadata": {
    "tags": []
   },
   "outputs": [],
   "source": [
    "df_train_descritiva = df_train.copy(deep = True)\n",
    "df_test_descritiva = df_test.copy(deep = True)"
   ]
  },
  {
   "cell_type": "markdown",
   "id": "58e8ed68-9d5c-49ca-a11f-6b87e2ac74ef",
   "metadata": {
    "tags": []
   },
   "source": [
    "### Limpeza de caracteres especiais e letras maiúsculas"
   ]
  },
  {
   "cell_type": "code",
   "execution_count": 9,
   "id": "9b550cbd-c71b-4589-8868-d4f811ca3cc1",
   "metadata": {
    "tags": []
   },
   "outputs": [],
   "source": [
    "def clean_text(x):\n",
    "    return unidecode.unidecode(x).lower()"
   ]
  },
  {
   "cell_type": "code",
   "execution_count": 10,
   "id": "dc049aa5-7eb8-4a84-b381-6de5fa678324",
   "metadata": {
    "tags": []
   },
   "outputs": [],
   "source": [
    "list_variaveis_a_limpar = [\"id_do_caso\", \"continente\", \"educacao_do_empregado\", \"regiao_de_emprego\", \"unidade_de_salario\"]"
   ]
  },
  {
   "cell_type": "code",
   "execution_count": 11,
   "id": "43ea1f44-1741-4576-8409-80807f8fc1db",
   "metadata": {
    "tags": []
   },
   "outputs": [],
   "source": [
    "for column in list_variaveis_a_limpar:\n",
    "    df_train[column] = df_train[column].apply(clean_text)"
   ]
  },
  {
   "cell_type": "markdown",
   "id": "7ab8f2e3-1bda-4743-abcb-7261a7c0362b",
   "metadata": {
    "tags": []
   },
   "source": [
    "### Transformação em variáveis booleanas"
   ]
  },
  {
   "cell_type": "code",
   "execution_count": 12,
   "id": "3e0b69c9-810f-4995-a4f1-460b580bbfc9",
   "metadata": {
    "tags": []
   },
   "outputs": [],
   "source": [
    "list_variaveis_bool = [\"tem_experiencia_de_trabalho\", \"requer_treinamento_de_trabalho\", \"posicao_em_tempo_integral\", \"status_do_caso\"]"
   ]
  },
  {
   "cell_type": "code",
   "execution_count": 13,
   "id": "dfed0074-09c2-442f-952e-b995c6efe62a",
   "metadata": {
    "tags": []
   },
   "outputs": [],
   "source": [
    "def convert_to_bool(x):\n",
    "    if x == \"N\" or x == \"Negado\":\n",
    "        return False\n",
    "    else:\n",
    "        return True"
   ]
  },
  {
   "cell_type": "code",
   "execution_count": 14,
   "id": "1eec4c35-d4f3-49d5-97a7-c10878a3f3c2",
   "metadata": {
    "tags": []
   },
   "outputs": [],
   "source": [
    "for column in list_variaveis_bool:\n",
    "    df_train[column] = df_train[column].apply(convert_to_bool)"
   ]
  },
  {
   "cell_type": "markdown",
   "id": "d7b4ec2f-9be7-4236-877a-cd41732e832d",
   "metadata": {
    "tags": []
   },
   "source": [
    "### Transformando variável categórica ordinal"
   ]
  },
  {
   "cell_type": "code",
   "execution_count": 15,
   "id": "0af98684-2124-45b9-95b2-8d1c1827661d",
   "metadata": {
    "tags": []
   },
   "outputs": [],
   "source": [
    "dict_nivel_educacao = {'ensino medio':1.00, 'mestrado':3.00, 'ensino superior':2.00, 'doutorado':4.00}"
   ]
  },
  {
   "cell_type": "code",
   "execution_count": 16,
   "id": "4b2c72fc-ea88-4aef-946c-eb0aab677628",
   "metadata": {
    "tags": []
   },
   "outputs": [],
   "source": [
    "def convert_nivel_educacao(x):\n",
    "    return dict_nivel_educacao[x]"
   ]
  },
  {
   "cell_type": "code",
   "execution_count": 17,
   "id": "215531b6-2221-473a-97ed-7e4ed5198ff8",
   "metadata": {
    "tags": []
   },
   "outputs": [],
   "source": [
    "df_train[\"educacao_do_empregado\"] = df_train[\"educacao_do_empregado\"].apply(convert_nivel_educacao)"
   ]
  },
  {
   "cell_type": "markdown",
   "id": "b1382b66-654b-49ca-9ee8-7a27bcb1667c",
   "metadata": {
    "tags": []
   },
   "source": [
    "### Transformando em dummies"
   ]
  },
  {
   "cell_type": "code",
   "execution_count": 18,
   "id": "b15cfb20-321b-45eb-89b3-420b2dac1296",
   "metadata": {
    "tags": []
   },
   "outputs": [],
   "source": [
    "lista_variaveis_dummies = [\"continente\", \"regiao_de_emprego\", \"unidade_de_salario\"]"
   ]
  },
  {
   "cell_type": "code",
   "execution_count": 19,
   "id": "6ff04c2e-d8a0-4097-b80e-d3c109ea4434",
   "metadata": {
    "tags": []
   },
   "outputs": [],
   "source": [
    "for column in lista_variaveis_dummies:\n",
    "    df_train = pd.concat([df_train, pd.get_dummies(df_train[column])], axis = 1)\n",
    "    df_train = df_train.drop(column, axis = 1)"
   ]
  },
  {
   "cell_type": "markdown",
   "id": "9cd18b54-8c9b-4ad6-b102-0f12a0b66e06",
   "metadata": {
    "tags": []
   },
   "source": [
    "### Transformando em float"
   ]
  },
  {
   "cell_type": "code",
   "execution_count": 20,
   "id": "c1198a75-b7f6-468a-a63e-5fd9d097a8a1",
   "metadata": {
    "tags": []
   },
   "outputs": [],
   "source": [
    "lista_variaveis_float = [\"educacao_do_empregado\", \"num_de_empregados\", \"salario_prevalecente\", \"ano_de_estabelecimento\"]"
   ]
  },
  {
   "cell_type": "code",
   "execution_count": 21,
   "id": "bf8e6acc-93c1-482d-922b-c96d98566c18",
   "metadata": {
    "tags": []
   },
   "outputs": [],
   "source": [
    "for column in lista_variaveis_float:\n",
    "    df_train[column] = df_train[column].apply(float)"
   ]
  },
  {
   "cell_type": "markdown",
   "id": "2f071757-d084-4c3a-8742-cea1fca71b6e",
   "metadata": {},
   "source": [
    "## Estatística Descritiva"
   ]
  },
  {
   "cell_type": "markdown",
   "id": "89079bef-3648-4f0f-b43b-e27763d3fea6",
   "metadata": {},
   "source": [
    "### Revisando os tipos de dados"
   ]
  },
  {
   "cell_type": "code",
   "execution_count": 22,
   "id": "e14edb7e-4cbc-4470-a044-70dcd9bfcd23",
   "metadata": {
    "tags": []
   },
   "outputs": [
    {
     "name": "stdout",
     "output_type": "stream",
     "text": [
      "A variável id_do_caso contém um valor único para cada variável? True\n"
     ]
    }
   ],
   "source": [
    "print(f\"A variável id_do_caso contém um valor único para cada variável? {len(df_train_descritiva.id_do_caso.unique()) == len(df_train_descritiva.id_do_caso)}\")"
   ]
  },
  {
   "cell_type": "markdown",
   "id": "00d71d0f-333c-4486-812f-b134b38b34a3",
   "metadata": {},
   "source": [
    "Os tipos de dados são:\n",
    "\n",
    "|Variável|Tipo de dado|Formato Original|Formato Processado|Único por registro?|Tipo de variável|\n",
    "|---|---|---|---|---|---|\n",
    "|id_do_caso|Categórico Nominal|Texto|Texto|Sim|Índice|\n",
    "|continente|Categórico Nominal|Texto|Texto|Não|Independente|\n",
    "|educacao_do_empregado|Categórico Ordinal|Texto|Inteiro|Não|Independente|\n",
    "|tem_experiencia_de_trabalho|Categórico Nominal|Texto|Binário|Não|Independente|\n",
    "|requer_treinamento_de_trabalho|Categórico Nominal|Texto|Binário|Não|Independente|\n",
    "|num_de_empregados|Numérico Discreto|Inteiro|Float|Não|Independente|\n",
    "|ano_de_estabelecimento|Numérico Discreto|Inteiro|Float|Não|Independente|\n",
    "|regiao_de_emprego|Categórico Nominal|Texto|Texto|Não|Independente|\n",
    "|salario_prevalecente|Numérico Contínuo|Float|Float|Não|Independente|\n",
    "|unidade_de_salario|Categórico Nominal|Texto|Texto|Não|Independente|\n",
    "|posicao_em_tempo_integral|Categórico Nominal|Texto|Binário|Não|Independente|\n",
    "|status_do_caso|Categórico Nominal|Texto|Binário|Não|Dependente|\n",
    "\n",
    "\n",
    "Os dados derivados das informações iniciais são:\n",
    "\n",
    "|Variável|Tipo de dado|Processamento|Formato Processado|Único por registro?|Tipo de variável|\n",
    "|---|---|---|---|---|---|\n",
    "|salario_prevalecente_anualizado|Numérico Contínuo|salario_prevalecente*(unidade_de_salario em anos)|Float|Não|Independente"
   ]
  },
  {
   "cell_type": "markdown",
   "id": "605bcea0-b168-46d2-8a4b-3ada8b04cfeb",
   "metadata": {},
   "source": [
    "### Informações básicas das variáveis"
   ]
  },
  {
   "cell_type": "markdown",
   "id": "9dd4f475-e883-44de-bd69-83128a2de217",
   "metadata": {},
   "source": [
    "Primeiramente, vamos extrair algumas estatísticas básicas das variáveis quantitativas. Conforme podemos verificar por meio da tabela abaixo:\n",
    "- O desvio-padrão do número de empregados é bem alto. Provavelmente há alguns outliers superiores, o que está gerando uma assimetria neste dado. Esta informação é corroborada pelo fato de que a mediana é menos da metade da média;\n",
    "- Existe pelo menos 1 empresa com número de empregados negativo. É importante analisar mais profundamente esta informação pois, considerando que número de empregados é uma contagem, não é possível ter um número de empregados negativo;\n",
    "- As variáveis de salário prevalecente e salário prevalecente anualizado possuem um valor muito baixo para ser um salário, seja hora ou seja anual. É importante revisar este valor, pois aparenta ser um problema de digitação;\n",
    "- O maior salário é no valor de US$ 12 milhões, o que deve ser um erro de digitação."
   ]
  },
  {
   "cell_type": "code",
   "execution_count": 23,
   "id": "3b62c317-f58a-4f45-a93d-e75be7059eec",
   "metadata": {
    "tags": []
   },
   "outputs": [
    {
     "data": {
      "text/html": [
       "<div>\n",
       "<style scoped>\n",
       "    .dataframe tbody tr th:only-of-type {\n",
       "        vertical-align: middle;\n",
       "    }\n",
       "\n",
       "    .dataframe tbody tr th {\n",
       "        vertical-align: top;\n",
       "    }\n",
       "\n",
       "    .dataframe thead th {\n",
       "        text-align: right;\n",
       "    }\n",
       "</style>\n",
       "<table border=\"1\" class=\"dataframe\">\n",
       "  <thead>\n",
       "    <tr style=\"text-align: right;\">\n",
       "      <th></th>\n",
       "      <th>num_de_empregados</th>\n",
       "      <th>ano_de_estabelecimento</th>\n",
       "      <th>salario_prevalecente</th>\n",
       "      <th>salario_prevalecente_anualizado</th>\n",
       "    </tr>\n",
       "  </thead>\n",
       "  <tbody>\n",
       "    <tr>\n",
       "      <th>count</th>\n",
       "      <td>17,836.0000</td>\n",
       "      <td>17,836.0000</td>\n",
       "      <td>17,836.0000</td>\n",
       "      <td>17,836.0000</td>\n",
       "    </tr>\n",
       "    <tr>\n",
       "      <th>mean</th>\n",
       "      <td>5,726.5019</td>\n",
       "      <td>1,979.4949</td>\n",
       "      <td>74,327.4284</td>\n",
       "      <td>196,512.9994</td>\n",
       "    </tr>\n",
       "    <tr>\n",
       "      <th>std</th>\n",
       "      <td>23,321.3774</td>\n",
       "      <td>42.0972</td>\n",
       "      <td>52,795.8596</td>\n",
       "      <td>567,460.8820</td>\n",
       "    </tr>\n",
       "    <tr>\n",
       "      <th>min</th>\n",
       "      <td>-26.0000</td>\n",
       "      <td>1,800.0000</td>\n",
       "      <td>2.1367</td>\n",
       "      <td>115.8100</td>\n",
       "    </tr>\n",
       "    <tr>\n",
       "      <th>25%</th>\n",
       "      <td>1,023.0000</td>\n",
       "      <td>1,976.0000</td>\n",
       "      <td>33,892.9125</td>\n",
       "      <td>46,681.8450</td>\n",
       "    </tr>\n",
       "    <tr>\n",
       "      <th>50%</th>\n",
       "      <td>2,117.0000</td>\n",
       "      <td>1,997.0000</td>\n",
       "      <td>70,106.9200</td>\n",
       "      <td>82,462.4450</td>\n",
       "    </tr>\n",
       "    <tr>\n",
       "      <th>75%</th>\n",
       "      <td>3,504.2500</td>\n",
       "      <td>2,005.0000</td>\n",
       "      <td>107,564.7150</td>\n",
       "      <td>124,664.9850</td>\n",
       "    </tr>\n",
       "    <tr>\n",
       "      <th>max</th>\n",
       "      <td>602,069.0000</td>\n",
       "      <td>2,016.0000</td>\n",
       "      <td>319,210.2700</td>\n",
       "      <td>12,189,130.7200</td>\n",
       "    </tr>\n",
       "  </tbody>\n",
       "</table>\n",
       "</div>"
      ],
      "text/plain": [
       "       num_de_empregados  ano_de_estabelecimento  salario_prevalecente   \n",
       "count        17,836.0000             17,836.0000           17,836.0000  \\\n",
       "mean          5,726.5019              1,979.4949           74,327.4284   \n",
       "std          23,321.3774                 42.0972           52,795.8596   \n",
       "min             -26.0000              1,800.0000                2.1367   \n",
       "25%           1,023.0000              1,976.0000           33,892.9125   \n",
       "50%           2,117.0000              1,997.0000           70,106.9200   \n",
       "75%           3,504.2500              2,005.0000          107,564.7150   \n",
       "max         602,069.0000              2,016.0000          319,210.2700   \n",
       "\n",
       "       salario_prevalecente_anualizado  \n",
       "count                      17,836.0000  \n",
       "mean                      196,512.9994  \n",
       "std                       567,460.8820  \n",
       "min                           115.8100  \n",
       "25%                        46,681.8450  \n",
       "50%                        82,462.4450  \n",
       "75%                       124,664.9850  \n",
       "max                    12,189,130.7200  "
      ]
     },
     "execution_count": 23,
     "metadata": {},
     "output_type": "execute_result"
    }
   ],
   "source": [
    "df_train_descritiva.describe()"
   ]
  },
  {
   "cell_type": "markdown",
   "id": "eda7d8aa-75f7-4503-8c14-d89ca66aee39",
   "metadata": {},
   "source": [
    "Podemos realizar a mesma análise, porém agora apenas para os profissionais que foram aprovados:\n",
    "- Continuamos encontrando um desvio-padrão maior que a média no número de empregados, o que indica outlier superior;\n",
    "- Continuamos encontrando o número negativo de empregados;\n",
    "- Continuamos encontrando um salário prevalecente muito baixo que pode ser indicativo de problema de digitação;\n",
    "- Continuamos encontrando um salário prevalecente máximo muito alto que pode ser indicativo de problema de digitação;"
   ]
  },
  {
   "cell_type": "code",
   "execution_count": 24,
   "id": "de611eba-1540-4479-babb-4354aa11ad09",
   "metadata": {
    "tags": []
   },
   "outputs": [
    {
     "data": {
      "text/html": [
       "<div>\n",
       "<style scoped>\n",
       "    .dataframe tbody tr th:only-of-type {\n",
       "        vertical-align: middle;\n",
       "    }\n",
       "\n",
       "    .dataframe tbody tr th {\n",
       "        vertical-align: top;\n",
       "    }\n",
       "\n",
       "    .dataframe thead th {\n",
       "        text-align: right;\n",
       "    }\n",
       "</style>\n",
       "<table border=\"1\" class=\"dataframe\">\n",
       "  <thead>\n",
       "    <tr style=\"text-align: right;\">\n",
       "      <th></th>\n",
       "      <th>num_de_empregados</th>\n",
       "      <th>ano_de_estabelecimento</th>\n",
       "      <th>salario_prevalecente</th>\n",
       "      <th>salario_prevalecente_anualizado</th>\n",
       "    </tr>\n",
       "  </thead>\n",
       "  <tbody>\n",
       "    <tr>\n",
       "      <th>count</th>\n",
       "      <td>11,937.0000</td>\n",
       "      <td>11,937.0000</td>\n",
       "      <td>11,937.0000</td>\n",
       "      <td>11,937.0000</td>\n",
       "    </tr>\n",
       "    <tr>\n",
       "      <th>mean</th>\n",
       "      <td>5,760.3480</td>\n",
       "      <td>1,979.7783</td>\n",
       "      <td>77,051.6792</td>\n",
       "      <td>161,565.8938</td>\n",
       "    </tr>\n",
       "    <tr>\n",
       "      <th>std</th>\n",
       "      <td>23,022.4687</td>\n",
       "      <td>42.1134</td>\n",
       "      <td>52,123.5167</td>\n",
       "      <td>534,156.5318</td>\n",
       "    </tr>\n",
       "    <tr>\n",
       "      <th>min</th>\n",
       "      <td>-26.0000</td>\n",
       "      <td>1,800.0000</td>\n",
       "      <td>2.1367</td>\n",
       "      <td>115.8100</td>\n",
       "    </tr>\n",
       "    <tr>\n",
       "      <th>25%</th>\n",
       "      <td>1,032.0000</td>\n",
       "      <td>1,976.0000</td>\n",
       "      <td>38,018.0500</td>\n",
       "      <td>44,441.8600</td>\n",
       "    </tr>\n",
       "    <tr>\n",
       "      <th>50%</th>\n",
       "      <td>2,147.0000</td>\n",
       "      <td>1,997.0000</td>\n",
       "      <td>72,274.9500</td>\n",
       "      <td>78,791.1200</td>\n",
       "    </tr>\n",
       "    <tr>\n",
       "      <th>75%</th>\n",
       "      <td>3,560.0000</td>\n",
       "      <td>2,005.0000</td>\n",
       "      <td>108,648.2600</td>\n",
       "      <td>117,397.6600</td>\n",
       "    </tr>\n",
       "    <tr>\n",
       "      <th>max</th>\n",
       "      <td>602,069.0000</td>\n",
       "      <td>2,016.0000</td>\n",
       "      <td>318,446.0500</td>\n",
       "      <td>12,189,130.7200</td>\n",
       "    </tr>\n",
       "  </tbody>\n",
       "</table>\n",
       "</div>"
      ],
      "text/plain": [
       "       num_de_empregados  ano_de_estabelecimento  salario_prevalecente   \n",
       "count        11,937.0000             11,937.0000           11,937.0000  \\\n",
       "mean          5,760.3480              1,979.7783           77,051.6792   \n",
       "std          23,022.4687                 42.1134           52,123.5167   \n",
       "min             -26.0000              1,800.0000                2.1367   \n",
       "25%           1,032.0000              1,976.0000           38,018.0500   \n",
       "50%           2,147.0000              1,997.0000           72,274.9500   \n",
       "75%           3,560.0000              2,005.0000          108,648.2600   \n",
       "max         602,069.0000              2,016.0000          318,446.0500   \n",
       "\n",
       "       salario_prevalecente_anualizado  \n",
       "count                      11,937.0000  \n",
       "mean                      161,565.8938  \n",
       "std                       534,156.5318  \n",
       "min                           115.8100  \n",
       "25%                        44,441.8600  \n",
       "50%                        78,791.1200  \n",
       "75%                       117,397.6600  \n",
       "max                    12,189,130.7200  "
      ]
     },
     "execution_count": 24,
     "metadata": {},
     "output_type": "execute_result"
    }
   ],
   "source": [
    "df_train_descritiva[df_train_descritiva[\"status_do_caso\"] == \"Aprovado\"].describe()"
   ]
  },
  {
   "cell_type": "markdown",
   "id": "9ac4e782-c347-4092-8b8d-9db98188049a",
   "metadata": {},
   "source": [
    "Podemos realizar a mesma análise, porém agora apenas para os profissionais que foram negados:\n",
    "- Continuamos encontrando um desvio-padrão maior que a média no número de empregados, o que indica outlier superior;\n",
    "- Continuamos encontrando o número negativo de empregados;\n",
    "- Continuamos encontrando um salário prevalecente muito baixo que pode ser indicativo de problema de digitação;\n",
    "- Continuamos encontrando um salário prevalecente máximo muito alto que pode ser indicativo de problema de digitação;"
   ]
  },
  {
   "cell_type": "code",
   "execution_count": 25,
   "id": "85d44ce3-9bc5-42e9-a567-ce294f46138b",
   "metadata": {
    "tags": []
   },
   "outputs": [
    {
     "data": {
      "text/html": [
       "<div>\n",
       "<style scoped>\n",
       "    .dataframe tbody tr th:only-of-type {\n",
       "        vertical-align: middle;\n",
       "    }\n",
       "\n",
       "    .dataframe tbody tr th {\n",
       "        vertical-align: top;\n",
       "    }\n",
       "\n",
       "    .dataframe thead th {\n",
       "        text-align: right;\n",
       "    }\n",
       "</style>\n",
       "<table border=\"1\" class=\"dataframe\">\n",
       "  <thead>\n",
       "    <tr style=\"text-align: right;\">\n",
       "      <th></th>\n",
       "      <th>num_de_empregados</th>\n",
       "      <th>ano_de_estabelecimento</th>\n",
       "      <th>salario_prevalecente</th>\n",
       "      <th>salario_prevalecente_anualizado</th>\n",
       "    </tr>\n",
       "  </thead>\n",
       "  <tbody>\n",
       "    <tr>\n",
       "      <th>count</th>\n",
       "      <td>5,899.0000</td>\n",
       "      <td>5,899.0000</td>\n",
       "      <td>5,899.0000</td>\n",
       "      <td>5,899.0000</td>\n",
       "    </tr>\n",
       "    <tr>\n",
       "      <th>mean</th>\n",
       "      <td>5,658.0120</td>\n",
       "      <td>1,978.9213</td>\n",
       "      <td>68,814.7344</td>\n",
       "      <td>267,230.6802</td>\n",
       "    </tr>\n",
       "    <tr>\n",
       "      <th>std</th>\n",
       "      <td>23,916.6432</td>\n",
       "      <td>42.0621</td>\n",
       "      <td>53,714.2250</td>\n",
       "      <td>623,571.1600</td>\n",
       "    </tr>\n",
       "    <tr>\n",
       "      <th>min</th>\n",
       "      <td>-26.0000</td>\n",
       "      <td>1,800.0000</td>\n",
       "      <td>2.9561</td>\n",
       "      <td>153.1100</td>\n",
       "    </tr>\n",
       "    <tr>\n",
       "      <th>25%</th>\n",
       "      <td>995.5000</td>\n",
       "      <td>1,975.0000</td>\n",
       "      <td>24,221.2100</td>\n",
       "      <td>51,978.3100</td>\n",
       "    </tr>\n",
       "    <tr>\n",
       "      <th>50%</th>\n",
       "      <td>2,067.0000</td>\n",
       "      <td>1,997.0000</td>\n",
       "      <td>65,782.6900</td>\n",
       "      <td>91,806.6600</td>\n",
       "    </tr>\n",
       "    <tr>\n",
       "      <th>75%</th>\n",
       "      <td>3,403.5000</td>\n",
       "      <td>2,004.0000</td>\n",
       "      <td>105,318.1150</td>\n",
       "      <td>144,163.4300</td>\n",
       "    </tr>\n",
       "    <tr>\n",
       "      <th>max</th>\n",
       "      <td>594,472.0000</td>\n",
       "      <td>2,016.0000</td>\n",
       "      <td>319,210.2700</td>\n",
       "      <td>8,854,281.8000</td>\n",
       "    </tr>\n",
       "  </tbody>\n",
       "</table>\n",
       "</div>"
      ],
      "text/plain": [
       "       num_de_empregados  ano_de_estabelecimento  salario_prevalecente   \n",
       "count         5,899.0000              5,899.0000            5,899.0000  \\\n",
       "mean          5,658.0120              1,978.9213           68,814.7344   \n",
       "std          23,916.6432                 42.0621           53,714.2250   \n",
       "min             -26.0000              1,800.0000                2.9561   \n",
       "25%             995.5000              1,975.0000           24,221.2100   \n",
       "50%           2,067.0000              1,997.0000           65,782.6900   \n",
       "75%           3,403.5000              2,004.0000          105,318.1150   \n",
       "max         594,472.0000              2,016.0000          319,210.2700   \n",
       "\n",
       "       salario_prevalecente_anualizado  \n",
       "count                       5,899.0000  \n",
       "mean                      267,230.6802  \n",
       "std                       623,571.1600  \n",
       "min                           153.1100  \n",
       "25%                        51,978.3100  \n",
       "50%                        91,806.6600  \n",
       "75%                       144,163.4300  \n",
       "max                     8,854,281.8000  "
      ]
     },
     "execution_count": 25,
     "metadata": {},
     "output_type": "execute_result"
    }
   ],
   "source": [
    "df_train_descritiva[df_train_descritiva[\"status_do_caso\"] == \"Negado\"].describe()"
   ]
  },
  {
   "cell_type": "markdown",
   "id": "4aa4487c-2953-436b-80f4-2f32030b15f6",
   "metadata": {},
   "source": [
    "Realizando uma análise gráfica do histograma das variáveis numéricas, podemos identificar que:\n",
    "- As variáveis número de empregados e salário prevalecente anualizado são assimétricas à direita;\n",
    "- A variável ano de estabelecimento é assimétrica à esquerda;\n",
    "- Existem outliers que estão puxando as curvas de forma absurda, principalmente para as variáveis número de empregados e salário prevalecente anualizado;\n",
    "- As distribuições destas variáveis não apresentam grande diferenciação quando comparadas as pessoas dos casos aprovados e dos negados;"
   ]
  },
  {
   "cell_type": "code",
   "execution_count": 35,
   "id": "bbc6feb1-fef1-4680-845b-6746e12880ae",
   "metadata": {
    "tags": []
   },
   "outputs": [
    {
     "data": {
      "image/png": "[encoded data removed]",
      "text/plain": [
       "<Figure size 640x480 with 9 Axes>"
      ]
     },
     "metadata": {},
     "output_type": "display_data"
    }
   ],
   "source": [
    "fig, axs = plt.subplots(3, 3, sharex = False, sharey = False)\n",
    "\n",
    "axs[0,0].hist(df_train_descritiva[\"num_de_empregados\"], bins = \"auto\")\n",
    "axs[1,0].hist(df_train_descritiva[df_train_descritiva[\"status_do_caso\"] == \"Aprovado\"][\"num_de_empregados\"], bins = \"auto\")\n",
    "axs[2,0].hist(df_train_descritiva[df_train_descritiva[\"status_do_caso\"] == \"Negado\"][\"num_de_empregados\"], bins = \"auto\")\n",
    "\n",
    "axs[0,1].hist(df_train_descritiva[\"ano_de_estabelecimento\"], bins = \"auto\")\n",
    "axs[1,1].hist(df_train_descritiva[df_train_descritiva[\"status_do_caso\"] == \"Aprovado\"][\"ano_de_estabelecimento\"], bins = \"auto\")\n",
    "axs[2,1].hist(df_train_descritiva[df_train_descritiva[\"status_do_caso\"] == \"Negado\"][\"ano_de_estabelecimento\"], bins = \"auto\")\n",
    "\n",
    "axs[0,2].hist(df_train_descritiva[\"salario_prevalecente_anualizado\"], bins = \"auto\")\n",
    "axs[1,2].hist(df_train_descritiva[df_train_descritiva[\"status_do_caso\"] == \"Aprovado\"][\"salario_prevalecente_anualizado\"], bins = \"auto\")\n",
    "axs[2,2].hist(df_train_descritiva[df_train_descritiva[\"status_do_caso\"] == \"Negado\"][\"salario_prevalecente_anualizado\"], bins = \"auto\")\n",
    "\n",
    "plt.show()"
   ]
  },
  {
   "cell_type": "markdown",
   "id": "8c7af40f-a46b-433f-9aa4-9ececf6ad25d",
   "metadata": {},
   "source": [
    "Realizando uma análise gráfica do boxplot das variáveis numéricas, podemos identificar que:\n",
    "- As variáveis número de empregados e salário prevalecente anualizado são assimétricas à direita;\n",
    "- A variável ano de estabelecimento é assimétrica à esquerda;\n",
    "- Todas as variáveis possuem muitos outliers;\n",
    "- As distribuições destas variáveis não apresentam grande diferenciação quando comparadas as pessoas dos casos aprovados e dos negados;"
   ]
  },
  {
   "cell_type": "code",
   "execution_count": 38,
   "id": "b7cd4bb9-f016-4d30-8586-a78d93f3d802",
   "metadata": {
    "tags": []
   },
   "outputs": [
    {
     "data": {
      "image/png": "[encoded data removed]",
      "text/plain": [
       "<Figure size 640x480 with 9 Axes>"
      ]
     },
     "metadata": {},
     "output_type": "display_data"
    }
   ],
   "source": [
    "fig, axs = plt.subplots(3, 3, sharex = False, sharey = False)\n",
    "\n",
    "axs[0,0].boxplot(df_train_descritiva[\"num_de_empregados\"])\n",
    "axs[1,0].boxplot(df_train_descritiva[df_train_descritiva[\"status_do_caso\"] == \"Aprovado\"][\"num_de_empregados\"])\n",
    "axs[2,0].boxplot(df_train_descritiva[df_train_descritiva[\"status_do_caso\"] == \"Negado\"][\"num_de_empregados\"])\n",
    "\n",
    "axs[0,1].boxplot(df_train_descritiva[\"ano_de_estabelecimento\"])\n",
    "axs[1,1].boxplot(df_train_descritiva[df_train_descritiva[\"status_do_caso\"] == \"Aprovado\"][\"ano_de_estabelecimento\"])\n",
    "axs[2,1].boxplot(df_train_descritiva[df_train_descritiva[\"status_do_caso\"] == \"Negado\"][\"ano_de_estabelecimento\"])\n",
    "\n",
    "axs[0,2].boxplot(df_train_descritiva[\"salario_prevalecente_anualizado\"])\n",
    "axs[1,2].boxplot(df_train_descritiva[df_train_descritiva[\"status_do_caso\"] == \"Aprovado\"][\"salario_prevalecente_anualizado\"])\n",
    "axs[2,2].boxplot(df_train_descritiva[df_train_descritiva[\"status_do_caso\"] == \"Negado\"][\"salario_prevalecente_anualizado\"])\n",
    "\n",
    "plt.show()"
   ]
  },
  {
   "cell_type": "code",
   "execution_count": 74,
   "id": "f37d5aa2-b6da-4551-a4bf-af98f413fe40",
   "metadata": {
    "tags": []
   },
   "outputs": [
    {
     "data": {
      "text/html": [
       "<div>\n",
       "<style scoped>\n",
       "    .dataframe tbody tr th:only-of-type {\n",
       "        vertical-align: middle;\n",
       "    }\n",
       "\n",
       "    .dataframe tbody tr th {\n",
       "        vertical-align: top;\n",
       "    }\n",
       "\n",
       "    .dataframe thead th {\n",
       "        text-align: right;\n",
       "    }\n",
       "</style>\n",
       "<table border=\"1\" class=\"dataframe\">\n",
       "  <thead>\n",
       "    <tr style=\"text-align: right;\">\n",
       "      <th></th>\n",
       "      <th>id_do_caso</th>\n",
       "      <th>continente</th>\n",
       "      <th>educacao_do_empregado</th>\n",
       "      <th>tem_experiencia_de_trabalho</th>\n",
       "      <th>requer_treinamento_de_trabalho</th>\n",
       "      <th>num_de_empregados</th>\n",
       "      <th>ano_de_estabelecimento</th>\n",
       "      <th>regiao_de_emprego</th>\n",
       "      <th>salario_prevalecente</th>\n",
       "      <th>unidade_de_salario</th>\n",
       "      <th>posicao_em_tempo_integral</th>\n",
       "      <th>status_do_caso</th>\n",
       "      <th>salario_prevalecente_anualizado</th>\n",
       "    </tr>\n",
       "  </thead>\n",
       "  <tbody>\n",
       "    <tr>\n",
       "      <th>110</th>\n",
       "      <td>EZYV1213</td>\n",
       "      <td>Ásia</td>\n",
       "      <td>Ensino Médio</td>\n",
       "      <td>N</td>\n",
       "      <td>N</td>\n",
       "      <td>31859</td>\n",
       "      <td>1964</td>\n",
       "      <td>Sul</td>\n",
       "      <td>932.9804</td>\n",
       "      <td>Hora</td>\n",
       "      <td>S</td>\n",
       "      <td>Aprovado</td>\n",
       "      <td>1,940,599.2300</td>\n",
       "    </tr>\n",
       "    <tr>\n",
       "      <th>148</th>\n",
       "      <td>EZYV6563</td>\n",
       "      <td>Ásia</td>\n",
       "      <td>Mestrado</td>\n",
       "      <td>N</td>\n",
       "      <td>N</td>\n",
       "      <td>1383</td>\n",
       "      <td>2004</td>\n",
       "      <td>Meio-Oeste</td>\n",
       "      <td>718.0270</td>\n",
       "      <td>Hora</td>\n",
       "      <td>S</td>\n",
       "      <td>Aprovado</td>\n",
       "      <td>1,493,496.1600</td>\n",
       "    </tr>\n",
       "    <tr>\n",
       "      <th>196</th>\n",
       "      <td>EZYV8947</td>\n",
       "      <td>Oceania</td>\n",
       "      <td>Ensino Médio</td>\n",
       "      <td>N</td>\n",
       "      <td>N</td>\n",
       "      <td>4268</td>\n",
       "      <td>1962</td>\n",
       "      <td>Nordeste</td>\n",
       "      <td>853.6152</td>\n",
       "      <td>Hora</td>\n",
       "      <td>S</td>\n",
       "      <td>Aprovado</td>\n",
       "      <td>1,775,519.6200</td>\n",
       "    </tr>\n",
       "    <tr>\n",
       "      <th>254</th>\n",
       "      <td>EZYV22035</td>\n",
       "      <td>Ásia</td>\n",
       "      <td>Ensino Médio</td>\n",
       "      <td>S</td>\n",
       "      <td>N</td>\n",
       "      <td>2769</td>\n",
       "      <td>2012</td>\n",
       "      <td>Oeste</td>\n",
       "      <td>37,185.3800</td>\n",
       "      <td>Semana</td>\n",
       "      <td>S</td>\n",
       "      <td>Aprovado</td>\n",
       "      <td>1,933,639.7600</td>\n",
       "    </tr>\n",
       "    <tr>\n",
       "      <th>310</th>\n",
       "      <td>EZYV8304</td>\n",
       "      <td>Europa</td>\n",
       "      <td>Mestrado</td>\n",
       "      <td>S</td>\n",
       "      <td>N</td>\n",
       "      <td>792</td>\n",
       "      <td>2007</td>\n",
       "      <td>Nordeste</td>\n",
       "      <td>855.9094</td>\n",
       "      <td>Hora</td>\n",
       "      <td>S</td>\n",
       "      <td>Aprovado</td>\n",
       "      <td>1,780,291.5500</td>\n",
       "    </tr>\n",
       "    <tr>\n",
       "      <th>...</th>\n",
       "      <td>...</td>\n",
       "      <td>...</td>\n",
       "      <td>...</td>\n",
       "      <td>...</td>\n",
       "      <td>...</td>\n",
       "      <td>...</td>\n",
       "      <td>...</td>\n",
       "      <td>...</td>\n",
       "      <td>...</td>\n",
       "      <td>...</td>\n",
       "      <td>...</td>\n",
       "      <td>...</td>\n",
       "      <td>...</td>\n",
       "    </tr>\n",
       "    <tr>\n",
       "      <th>17572</th>\n",
       "      <td>EZYV8889</td>\n",
       "      <td>Ásia</td>\n",
       "      <td>Mestrado</td>\n",
       "      <td>S</td>\n",
       "      <td>N</td>\n",
       "      <td>2547</td>\n",
       "      <td>1962</td>\n",
       "      <td>Sul</td>\n",
       "      <td>144,234.8600</td>\n",
       "      <td>Semana</td>\n",
       "      <td>S</td>\n",
       "      <td>Aprovado</td>\n",
       "      <td>7,500,212.7200</td>\n",
       "    </tr>\n",
       "    <tr>\n",
       "      <th>17606</th>\n",
       "      <td>EZYV11510</td>\n",
       "      <td>América do Norte</td>\n",
       "      <td>Ensino Superior</td>\n",
       "      <td>S</td>\n",
       "      <td>N</td>\n",
       "      <td>90532</td>\n",
       "      <td>1948</td>\n",
       "      <td>Nordeste</td>\n",
       "      <td>89,731.5600</td>\n",
       "      <td>Semana</td>\n",
       "      <td>S</td>\n",
       "      <td>Aprovado</td>\n",
       "      <td>4,666,041.1200</td>\n",
       "    </tr>\n",
       "    <tr>\n",
       "      <th>17633</th>\n",
       "      <td>EZYV20248</td>\n",
       "      <td>Europa</td>\n",
       "      <td>Mestrado</td>\n",
       "      <td>S</td>\n",
       "      <td>N</td>\n",
       "      <td>3100</td>\n",
       "      <td>1998</td>\n",
       "      <td>Nordeste</td>\n",
       "      <td>127,991.5000</td>\n",
       "      <td>Semana</td>\n",
       "      <td>S</td>\n",
       "      <td>Aprovado</td>\n",
       "      <td>6,655,558.0000</td>\n",
       "    </tr>\n",
       "    <tr>\n",
       "      <th>17640</th>\n",
       "      <td>EZYV17068</td>\n",
       "      <td>Ásia</td>\n",
       "      <td>Ensino Superior</td>\n",
       "      <td>S</td>\n",
       "      <td>N</td>\n",
       "      <td>355</td>\n",
       "      <td>1838</td>\n",
       "      <td>Oeste</td>\n",
       "      <td>157,009.8700</td>\n",
       "      <td>Mês</td>\n",
       "      <td>S</td>\n",
       "      <td>Aprovado</td>\n",
       "      <td>1,884,118.4400</td>\n",
       "    </tr>\n",
       "    <tr>\n",
       "      <th>17713</th>\n",
       "      <td>EZYV19606</td>\n",
       "      <td>Ásia</td>\n",
       "      <td>Ensino Médio</td>\n",
       "      <td>S</td>\n",
       "      <td>N</td>\n",
       "      <td>425</td>\n",
       "      <td>1841</td>\n",
       "      <td>Oeste</td>\n",
       "      <td>555.3039</td>\n",
       "      <td>Hora</td>\n",
       "      <td>S</td>\n",
       "      <td>Aprovado</td>\n",
       "      <td>1,155,032.1100</td>\n",
       "    </tr>\n",
       "  </tbody>\n",
       "</table>\n",
       "<p>335 rows × 13 columns</p>\n",
       "</div>"
      ],
      "text/plain": [
       "      id_do_caso        continente educacao_do_empregado   \n",
       "110     EZYV1213              Ásia          Ensino Médio  \\\n",
       "148     EZYV6563              Ásia              Mestrado   \n",
       "196     EZYV8947           Oceania          Ensino Médio   \n",
       "254    EZYV22035              Ásia          Ensino Médio   \n",
       "310     EZYV8304            Europa              Mestrado   \n",
       "...          ...               ...                   ...   \n",
       "17572   EZYV8889              Ásia              Mestrado   \n",
       "17606  EZYV11510  América do Norte       Ensino Superior   \n",
       "17633  EZYV20248            Europa              Mestrado   \n",
       "17640  EZYV17068              Ásia       Ensino Superior   \n",
       "17713  EZYV19606              Ásia          Ensino Médio   \n",
       "\n",
       "      tem_experiencia_de_trabalho requer_treinamento_de_trabalho   \n",
       "110                             N                              N  \\\n",
       "148                             N                              N   \n",
       "196                             N                              N   \n",
       "254                             S                              N   \n",
       "310                             S                              N   \n",
       "...                           ...                            ...   \n",
       "17572                           S                              N   \n",
       "17606                           S                              N   \n",
       "17633                           S                              N   \n",
       "17640                           S                              N   \n",
       "17713                           S                              N   \n",
       "\n",
       "       num_de_empregados  ano_de_estabelecimento regiao_de_emprego   \n",
       "110                31859                    1964               Sul  \\\n",
       "148                 1383                    2004        Meio-Oeste   \n",
       "196                 4268                    1962          Nordeste   \n",
       "254                 2769                    2012             Oeste   \n",
       "310                  792                    2007          Nordeste   \n",
       "...                  ...                     ...               ...   \n",
       "17572               2547                    1962               Sul   \n",
       "17606              90532                    1948          Nordeste   \n",
       "17633               3100                    1998          Nordeste   \n",
       "17640                355                    1838             Oeste   \n",
       "17713                425                    1841             Oeste   \n",
       "\n",
       "       salario_prevalecente unidade_de_salario posicao_em_tempo_integral   \n",
       "110                932.9804               Hora                         S  \\\n",
       "148                718.0270               Hora                         S   \n",
       "196                853.6152               Hora                         S   \n",
       "254             37,185.3800             Semana                         S   \n",
       "310                855.9094               Hora                         S   \n",
       "...                     ...                ...                       ...   \n",
       "17572          144,234.8600             Semana                         S   \n",
       "17606           89,731.5600             Semana                         S   \n",
       "17633          127,991.5000             Semana                         S   \n",
       "17640          157,009.8700                Mês                         S   \n",
       "17713              555.3039               Hora                         S   \n",
       "\n",
       "      status_do_caso  salario_prevalecente_anualizado  \n",
       "110         Aprovado                   1,940,599.2300  \n",
       "148         Aprovado                   1,493,496.1600  \n",
       "196         Aprovado                   1,775,519.6200  \n",
       "254         Aprovado                   1,933,639.7600  \n",
       "310         Aprovado                   1,780,291.5500  \n",
       "...              ...                              ...  \n",
       "17572       Aprovado                   7,500,212.7200  \n",
       "17606       Aprovado                   4,666,041.1200  \n",
       "17633       Aprovado                   6,655,558.0000  \n",
       "17640       Aprovado                   1,884,118.4400  \n",
       "17713       Aprovado                   1,155,032.1100  \n",
       "\n",
       "[335 rows x 13 columns]"
      ]
     },
     "execution_count": 74,
     "metadata": {},
     "output_type": "execute_result"
    }
   ],
   "source": [
    "df_train_descritiva.loc[(df_train_descritiva[\"salario_prevalecente_anualizado\"] > 1000000) & (df_train_descritiva[\"status_do_caso\"] == \"Aprovado\")]"
   ]
  },
  {
   "cell_type": "code",
   "execution_count": 65,
   "id": "d24e82d8-4b50-4549-81e5-cb664d6bf6ec",
   "metadata": {
    "tags": []
   },
   "outputs": [
    {
     "ename": "TypeError",
     "evalue": "'>' not supported between instances of 'list' and 'int'",
     "output_type": "error",
     "traceback": [
      "\u001b[1;31m---------------------------------------------------------------------------\u001b[0m",
      "\u001b[1;31mTypeError\u001b[0m                                 Traceback (most recent call last)",
      "Cell \u001b[1;32mIn[65], line 1\u001b[0m\n\u001b[1;32m----> 1\u001b[0m df_train_descritiva\u001b[38;5;241m.\u001b[39mloc(\u001b[43m[\u001b[49m\u001b[38;5;124;43m\"\u001b[39;49m\u001b[38;5;124;43msalario_prevalecente_anualizado\u001b[39;49m\u001b[38;5;124;43m\"\u001b[39;49m\u001b[43m]\u001b[49m\u001b[43m \u001b[49m\u001b[38;5;241;43m>\u001b[39;49m\u001b[43m \u001b[49m\u001b[38;5;241;43m1000000\u001b[39;49m)\n",
      "\u001b[1;31mTypeError\u001b[0m: '>' not supported between instances of 'list' and 'int'"
     ]
    }
   ],
   "source": [
    "df_train_descritiva.loc([\"salario_prevalecente_anualizado\"] > 1000000)"
   ]
  },
  {
   "cell_type": "markdown",
   "id": "26f9d00c-b591-4411-a7eb-eeca0869f7d6",
   "metadata": {},
   "source": [
    "Em seguida, vamos analisar a ocorrência das variáveis categóricas:"
   ]
  },
  {
   "cell_type": "code",
   "execution_count": 40,
   "id": "8f13226f-abdd-4bdb-b803-6c105136a57c",
   "metadata": {
    "tags": []
   },
   "outputs": [],
   "source": [
    "def show_summarized_ocurrences(df, x, count_column, y_column, y_filter1, y_filter2):\n",
    "    return df[[x, count_column]].groupby(x).count().reset_index().rename({count_column:\"total\"}, axis = 1).merge(df[df[y_column] == y_filter1][[x, count_column]].groupby(x).count().reset_index().rename({count_column:\"negados\"}, axis = 1), on = x).merge(df[df[y_column] == y_filter2][[x, count_column]].groupby(x).count().reset_index().rename({count_column:\"aprovados\"}, axis = 1), on = x)"
   ]
  },
  {
   "cell_type": "code",
   "execution_count": 50,
   "id": "a64a76e2-bf73-4fa8-ab27-ff692d8a314b",
   "metadata": {
    "tags": []
   },
   "outputs": [],
   "source": [
    "def show_percentage_ocurrences(df):\n",
    "    df[\"perc_negados\"] = df.negados / df.total\n",
    "    df[\"perc_aprovados\"] = df.aprovados / df.total    \n",
    "    return df"
   ]
  },
  {
   "cell_type": "code",
   "execution_count": 51,
   "id": "1eb18299-abbd-4552-afac-9ace8adae40e",
   "metadata": {
    "tags": []
   },
   "outputs": [],
   "source": [
    "def show_summarized_percentage_ocurrences(df, x, count_column, y_column, y_filter1, y_filter2):\n",
    "    df = show_summarized_ocurrences(df, x, count_column, y_column, y_filter1, y_filter2)\n",
    "    df = show_percentage_ocurrences(df)\n",
    "    return df"
   ]
  },
  {
   "cell_type": "code",
   "execution_count": 52,
   "id": "215d35f0-c79a-4a0d-b573-0e28a2bfa336",
   "metadata": {
    "tags": []
   },
   "outputs": [
    {
     "data": {
      "text/html": [
       "<div>\n",
       "<style scoped>\n",
       "    .dataframe tbody tr th:only-of-type {\n",
       "        vertical-align: middle;\n",
       "    }\n",
       "\n",
       "    .dataframe tbody tr th {\n",
       "        vertical-align: top;\n",
       "    }\n",
       "\n",
       "    .dataframe thead th {\n",
       "        text-align: right;\n",
       "    }\n",
       "</style>\n",
       "<table border=\"1\" class=\"dataframe\">\n",
       "  <thead>\n",
       "    <tr style=\"text-align: right;\">\n",
       "      <th></th>\n",
       "      <th>continente</th>\n",
       "      <th>total</th>\n",
       "      <th>negados</th>\n",
       "      <th>aprovados</th>\n",
       "      <th>perc_negados</th>\n",
       "      <th>perc_aprovados</th>\n",
       "    </tr>\n",
       "  </thead>\n",
       "  <tbody>\n",
       "    <tr>\n",
       "      <th>0</th>\n",
       "      <td>América do Norte</td>\n",
       "      <td>2295</td>\n",
       "      <td>868</td>\n",
       "      <td>1427</td>\n",
       "      <td>0.3782</td>\n",
       "      <td>0.6218</td>\n",
       "    </tr>\n",
       "    <tr>\n",
       "      <th>1</th>\n",
       "      <td>América do Sul</td>\n",
       "      <td>590</td>\n",
       "      <td>250</td>\n",
       "      <td>340</td>\n",
       "      <td>0.4237</td>\n",
       "      <td>0.5763</td>\n",
       "    </tr>\n",
       "    <tr>\n",
       "      <th>2</th>\n",
       "      <td>Europa</td>\n",
       "      <td>2654</td>\n",
       "      <td>547</td>\n",
       "      <td>2107</td>\n",
       "      <td>0.2061</td>\n",
       "      <td>0.7939</td>\n",
       "    </tr>\n",
       "    <tr>\n",
       "      <th>3</th>\n",
       "      <td>Oceania</td>\n",
       "      <td>139</td>\n",
       "      <td>48</td>\n",
       "      <td>91</td>\n",
       "      <td>0.3453</td>\n",
       "      <td>0.6547</td>\n",
       "    </tr>\n",
       "    <tr>\n",
       "      <th>4</th>\n",
       "      <td>África</td>\n",
       "      <td>393</td>\n",
       "      <td>111</td>\n",
       "      <td>282</td>\n",
       "      <td>0.2824</td>\n",
       "      <td>0.7176</td>\n",
       "    </tr>\n",
       "    <tr>\n",
       "      <th>5</th>\n",
       "      <td>Ásia</td>\n",
       "      <td>11765</td>\n",
       "      <td>4075</td>\n",
       "      <td>7690</td>\n",
       "      <td>0.3464</td>\n",
       "      <td>0.6536</td>\n",
       "    </tr>\n",
       "  </tbody>\n",
       "</table>\n",
       "</div>"
      ],
      "text/plain": [
       "         continente  total  negados  aprovados  perc_negados  perc_aprovados\n",
       "0  América do Norte   2295      868       1427        0.3782          0.6218\n",
       "1    América do Sul    590      250        340        0.4237          0.5763\n",
       "2            Europa   2654      547       2107        0.2061          0.7939\n",
       "3           Oceania    139       48         91        0.3453          0.6547\n",
       "4            África    393      111        282        0.2824          0.7176\n",
       "5              Ásia  11765     4075       7690        0.3464          0.6536"
      ]
     },
     "execution_count": 52,
     "metadata": {},
     "output_type": "execute_result"
    }
   ],
   "source": [
    "show_summarized_percentage_ocurrences(df = df_train_descritiva, \n",
    "                           x = \"continente\", \n",
    "                           count_column = \"id_do_caso\", \n",
    "                           y_column = \"status_do_caso\", \n",
    "                           y_filter1 = \"Negado\", \n",
    "                           y_filter2 = \"Aprovado\")"
   ]
  },
  {
   "cell_type": "code",
   "execution_count": 54,
   "id": "3b7364ef-bc68-48e2-9b2b-c400913afb79",
   "metadata": {
    "tags": []
   },
   "outputs": [
    {
     "data": {
      "text/html": [
       "<div>\n",
       "<style scoped>\n",
       "    .dataframe tbody tr th:only-of-type {\n",
       "        vertical-align: middle;\n",
       "    }\n",
       "\n",
       "    .dataframe tbody tr th {\n",
       "        vertical-align: top;\n",
       "    }\n",
       "\n",
       "    .dataframe thead th {\n",
       "        text-align: right;\n",
       "    }\n",
       "</style>\n",
       "<table border=\"1\" class=\"dataframe\">\n",
       "  <thead>\n",
       "    <tr style=\"text-align: right;\">\n",
       "      <th></th>\n",
       "      <th>educacao_do_empregado</th>\n",
       "      <th>total</th>\n",
       "      <th>negados</th>\n",
       "      <th>aprovados</th>\n",
       "      <th>perc_negados</th>\n",
       "      <th>perc_aprovados</th>\n",
       "    </tr>\n",
       "  </thead>\n",
       "  <tbody>\n",
       "    <tr>\n",
       "      <th>0</th>\n",
       "      <td>Doutorado</td>\n",
       "      <td>1532</td>\n",
       "      <td>196</td>\n",
       "      <td>1336</td>\n",
       "      <td>0.1279</td>\n",
       "      <td>0.8721</td>\n",
       "    </tr>\n",
       "    <tr>\n",
       "      <th>1</th>\n",
       "      <td>Ensino Médio</td>\n",
       "      <td>2398</td>\n",
       "      <td>1583</td>\n",
       "      <td>815</td>\n",
       "      <td>0.6601</td>\n",
       "      <td>0.3399</td>\n",
       "    </tr>\n",
       "    <tr>\n",
       "      <th>2</th>\n",
       "      <td>Ensino Superior</td>\n",
       "      <td>7151</td>\n",
       "      <td>2687</td>\n",
       "      <td>4464</td>\n",
       "      <td>0.3758</td>\n",
       "      <td>0.6242</td>\n",
       "    </tr>\n",
       "    <tr>\n",
       "      <th>3</th>\n",
       "      <td>Mestrado</td>\n",
       "      <td>6755</td>\n",
       "      <td>1433</td>\n",
       "      <td>5322</td>\n",
       "      <td>0.2121</td>\n",
       "      <td>0.7879</td>\n",
       "    </tr>\n",
       "  </tbody>\n",
       "</table>\n",
       "</div>"
      ],
      "text/plain": [
       "  educacao_do_empregado  total  negados  aprovados  perc_negados   \n",
       "0             Doutorado   1532      196       1336        0.1279  \\\n",
       "1          Ensino Médio   2398     1583        815        0.6601   \n",
       "2       Ensino Superior   7151     2687       4464        0.3758   \n",
       "3              Mestrado   6755     1433       5322        0.2121   \n",
       "\n",
       "   perc_aprovados  \n",
       "0          0.8721  \n",
       "1          0.3399  \n",
       "2          0.6242  \n",
       "3          0.7879  "
      ]
     },
     "execution_count": 54,
     "metadata": {},
     "output_type": "execute_result"
    }
   ],
   "source": [
    "show_summarized_percentage_ocurrences(df = df_train_descritiva, \n",
    "                           x = \"educacao_do_empregado\", \n",
    "                           count_column = \"id_do_caso\", \n",
    "                           y_column = \"status_do_caso\", \n",
    "                           y_filter1 = \"Negado\", \n",
    "                           y_filter2 = \"Aprovado\")"
   ]
  },
  {
   "cell_type": "code",
   "execution_count": 55,
   "id": "03b6499d-3238-47f3-9921-c28689231085",
   "metadata": {
    "tags": []
   },
   "outputs": [
    {
     "data": {
      "text/html": [
       "<div>\n",
       "<style scoped>\n",
       "    .dataframe tbody tr th:only-of-type {\n",
       "        vertical-align: middle;\n",
       "    }\n",
       "\n",
       "    .dataframe tbody tr th {\n",
       "        vertical-align: top;\n",
       "    }\n",
       "\n",
       "    .dataframe thead th {\n",
       "        text-align: right;\n",
       "    }\n",
       "</style>\n",
       "<table border=\"1\" class=\"dataframe\">\n",
       "  <thead>\n",
       "    <tr style=\"text-align: right;\">\n",
       "      <th></th>\n",
       "      <th>tem_experiencia_de_trabalho</th>\n",
       "      <th>total</th>\n",
       "      <th>negados</th>\n",
       "      <th>aprovados</th>\n",
       "      <th>perc_negados</th>\n",
       "      <th>perc_aprovados</th>\n",
       "    </tr>\n",
       "  </thead>\n",
       "  <tbody>\n",
       "    <tr>\n",
       "      <th>0</th>\n",
       "      <td>N</td>\n",
       "      <td>7456</td>\n",
       "      <td>3256</td>\n",
       "      <td>4200</td>\n",
       "      <td>0.4367</td>\n",
       "      <td>0.5633</td>\n",
       "    </tr>\n",
       "    <tr>\n",
       "      <th>1</th>\n",
       "      <td>S</td>\n",
       "      <td>10380</td>\n",
       "      <td>2643</td>\n",
       "      <td>7737</td>\n",
       "      <td>0.2546</td>\n",
       "      <td>0.7454</td>\n",
       "    </tr>\n",
       "  </tbody>\n",
       "</table>\n",
       "</div>"
      ],
      "text/plain": [
       "  tem_experiencia_de_trabalho  total  negados  aprovados  perc_negados   \n",
       "0                           N   7456     3256       4200        0.4367  \\\n",
       "1                           S  10380     2643       7737        0.2546   \n",
       "\n",
       "   perc_aprovados  \n",
       "0          0.5633  \n",
       "1          0.7454  "
      ]
     },
     "execution_count": 55,
     "metadata": {},
     "output_type": "execute_result"
    }
   ],
   "source": [
    "show_summarized_percentage_ocurrences(df = df_train_descritiva, \n",
    "                           x = \"tem_experiencia_de_trabalho\", \n",
    "                           count_column = \"id_do_caso\", \n",
    "                           y_column = \"status_do_caso\", \n",
    "                           y_filter1 = \"Negado\", \n",
    "                           y_filter2 = \"Aprovado\")"
   ]
  },
  {
   "cell_type": "code",
   "execution_count": 56,
   "id": "9157672f-8089-4200-aedf-dea52500227b",
   "metadata": {
    "tags": []
   },
   "outputs": [
    {
     "data": {
      "text/html": [
       "<div>\n",
       "<style scoped>\n",
       "    .dataframe tbody tr th:only-of-type {\n",
       "        vertical-align: middle;\n",
       "    }\n",
       "\n",
       "    .dataframe tbody tr th {\n",
       "        vertical-align: top;\n",
       "    }\n",
       "\n",
       "    .dataframe thead th {\n",
       "        text-align: right;\n",
       "    }\n",
       "</style>\n",
       "<table border=\"1\" class=\"dataframe\">\n",
       "  <thead>\n",
       "    <tr style=\"text-align: right;\">\n",
       "      <th></th>\n",
       "      <th>requer_treinamento_de_trabalho</th>\n",
       "      <th>total</th>\n",
       "      <th>negados</th>\n",
       "      <th>aprovados</th>\n",
       "      <th>perc_negados</th>\n",
       "      <th>perc_aprovados</th>\n",
       "    </tr>\n",
       "  </thead>\n",
       "  <tbody>\n",
       "    <tr>\n",
       "      <th>0</th>\n",
       "      <td>N</td>\n",
       "      <td>15755</td>\n",
       "      <td>5258</td>\n",
       "      <td>10497</td>\n",
       "      <td>0.3337</td>\n",
       "      <td>0.6663</td>\n",
       "    </tr>\n",
       "    <tr>\n",
       "      <th>1</th>\n",
       "      <td>S</td>\n",
       "      <td>2081</td>\n",
       "      <td>641</td>\n",
       "      <td>1440</td>\n",
       "      <td>0.3080</td>\n",
       "      <td>0.6920</td>\n",
       "    </tr>\n",
       "  </tbody>\n",
       "</table>\n",
       "</div>"
      ],
      "text/plain": [
       "  requer_treinamento_de_trabalho  total  negados  aprovados  perc_negados   \n",
       "0                              N  15755     5258      10497        0.3337  \\\n",
       "1                              S   2081      641       1440        0.3080   \n",
       "\n",
       "   perc_aprovados  \n",
       "0          0.6663  \n",
       "1          0.6920  "
      ]
     },
     "execution_count": 56,
     "metadata": {},
     "output_type": "execute_result"
    }
   ],
   "source": [
    "show_summarized_percentage_ocurrences(df = df_train_descritiva, \n",
    "                           x = \"requer_treinamento_de_trabalho\", \n",
    "                           count_column = \"id_do_caso\", \n",
    "                           y_column = \"status_do_caso\", \n",
    "                           y_filter1 = \"Negado\", \n",
    "                           y_filter2 = \"Aprovado\")"
   ]
  },
  {
   "cell_type": "code",
   "execution_count": 57,
   "id": "40a1e81a-6d5d-4e1b-a6d2-c4aed98009cc",
   "metadata": {
    "tags": []
   },
   "outputs": [
    {
     "data": {
      "text/html": [
       "<div>\n",
       "<style scoped>\n",
       "    .dataframe tbody tr th:only-of-type {\n",
       "        vertical-align: middle;\n",
       "    }\n",
       "\n",
       "    .dataframe tbody tr th {\n",
       "        vertical-align: top;\n",
       "    }\n",
       "\n",
       "    .dataframe thead th {\n",
       "        text-align: right;\n",
       "    }\n",
       "</style>\n",
       "<table border=\"1\" class=\"dataframe\">\n",
       "  <thead>\n",
       "    <tr style=\"text-align: right;\">\n",
       "      <th></th>\n",
       "      <th>regiao_de_emprego</th>\n",
       "      <th>total</th>\n",
       "      <th>negados</th>\n",
       "      <th>aprovados</th>\n",
       "      <th>perc_negados</th>\n",
       "      <th>perc_aprovados</th>\n",
       "    </tr>\n",
       "  </thead>\n",
       "  <tbody>\n",
       "    <tr>\n",
       "      <th>0</th>\n",
       "      <td>Ilha</td>\n",
       "      <td>260</td>\n",
       "      <td>103</td>\n",
       "      <td>157</td>\n",
       "      <td>0.3962</td>\n",
       "      <td>0.6038</td>\n",
       "    </tr>\n",
       "    <tr>\n",
       "      <th>1</th>\n",
       "      <td>Meio-Oeste</td>\n",
       "      <td>3011</td>\n",
       "      <td>723</td>\n",
       "      <td>2288</td>\n",
       "      <td>0.2401</td>\n",
       "      <td>0.7599</td>\n",
       "    </tr>\n",
       "    <tr>\n",
       "      <th>2</th>\n",
       "      <td>Nordeste</td>\n",
       "      <td>5064</td>\n",
       "      <td>1883</td>\n",
       "      <td>3181</td>\n",
       "      <td>0.3718</td>\n",
       "      <td>0.6282</td>\n",
       "    </tr>\n",
       "    <tr>\n",
       "      <th>3</th>\n",
       "      <td>Oeste</td>\n",
       "      <td>4589</td>\n",
       "      <td>1719</td>\n",
       "      <td>2870</td>\n",
       "      <td>0.3746</td>\n",
       "      <td>0.6254</td>\n",
       "    </tr>\n",
       "    <tr>\n",
       "      <th>4</th>\n",
       "      <td>Sul</td>\n",
       "      <td>4912</td>\n",
       "      <td>1471</td>\n",
       "      <td>3441</td>\n",
       "      <td>0.2995</td>\n",
       "      <td>0.7005</td>\n",
       "    </tr>\n",
       "  </tbody>\n",
       "</table>\n",
       "</div>"
      ],
      "text/plain": [
       "  regiao_de_emprego  total  negados  aprovados  perc_negados  perc_aprovados\n",
       "0              Ilha    260      103        157        0.3962          0.6038\n",
       "1        Meio-Oeste   3011      723       2288        0.2401          0.7599\n",
       "2          Nordeste   5064     1883       3181        0.3718          0.6282\n",
       "3             Oeste   4589     1719       2870        0.3746          0.6254\n",
       "4               Sul   4912     1471       3441        0.2995          0.7005"
      ]
     },
     "execution_count": 57,
     "metadata": {},
     "output_type": "execute_result"
    }
   ],
   "source": [
    "show_summarized_percentage_ocurrences(df = df_train_descritiva, \n",
    "                           x = \"regiao_de_emprego\", \n",
    "                           count_column = \"id_do_caso\", \n",
    "                           y_column = \"status_do_caso\", \n",
    "                           y_filter1 = \"Negado\", \n",
    "                           y_filter2 = \"Aprovado\")"
   ]
  },
  {
   "cell_type": "code",
   "execution_count": 58,
   "id": "1e71e0b7-d509-4349-bfbc-80cec47c1402",
   "metadata": {
    "tags": []
   },
   "outputs": [
    {
     "data": {
      "text/html": [
       "<div>\n",
       "<style scoped>\n",
       "    .dataframe tbody tr th:only-of-type {\n",
       "        vertical-align: middle;\n",
       "    }\n",
       "\n",
       "    .dataframe tbody tr th {\n",
       "        vertical-align: top;\n",
       "    }\n",
       "\n",
       "    .dataframe thead th {\n",
       "        text-align: right;\n",
       "    }\n",
       "</style>\n",
       "<table border=\"1\" class=\"dataframe\">\n",
       "  <thead>\n",
       "    <tr style=\"text-align: right;\">\n",
       "      <th></th>\n",
       "      <th>posicao_em_tempo_integral</th>\n",
       "      <th>total</th>\n",
       "      <th>negados</th>\n",
       "      <th>aprovados</th>\n",
       "      <th>perc_negados</th>\n",
       "      <th>perc_aprovados</th>\n",
       "    </tr>\n",
       "  </thead>\n",
       "  <tbody>\n",
       "    <tr>\n",
       "      <th>0</th>\n",
       "      <td>N</td>\n",
       "      <td>1902</td>\n",
       "      <td>603</td>\n",
       "      <td>1299</td>\n",
       "      <td>0.3170</td>\n",
       "      <td>0.6830</td>\n",
       "    </tr>\n",
       "    <tr>\n",
       "      <th>1</th>\n",
       "      <td>S</td>\n",
       "      <td>15934</td>\n",
       "      <td>5296</td>\n",
       "      <td>10638</td>\n",
       "      <td>0.3324</td>\n",
       "      <td>0.6676</td>\n",
       "    </tr>\n",
       "  </tbody>\n",
       "</table>\n",
       "</div>"
      ],
      "text/plain": [
       "  posicao_em_tempo_integral  total  negados  aprovados  perc_negados   \n",
       "0                         N   1902      603       1299        0.3170  \\\n",
       "1                         S  15934     5296      10638        0.3324   \n",
       "\n",
       "   perc_aprovados  \n",
       "0          0.6830  \n",
       "1          0.6676  "
      ]
     },
     "execution_count": 58,
     "metadata": {},
     "output_type": "execute_result"
    }
   ],
   "source": [
    "show_summarized_percentage_ocurrences(df = df_train_descritiva, \n",
    "                           x = \"posicao_em_tempo_integral\", \n",
    "                           count_column = \"id_do_caso\", \n",
    "                           y_column = \"status_do_caso\", \n",
    "                           y_filter1 = \"Negado\", \n",
    "                           y_filter2 = \"Aprovado\")"
   ]
  },
  {
   "cell_type": "markdown",
   "id": "006bd096-e6d9-4d3c-9917-21a9a8e73c3a",
   "metadata": {},
   "source": []
  },
  {
   "cell_type": "code",
   "execution_count": null,
   "id": "ec6b6843-feb3-44a5-bd9e-9a9381a6b5cc",
   "metadata": {},
   "outputs": [],
   "source": []
  },
  {
   "cell_type": "code",
   "execution_count": null,
   "id": "bccf6ec0-52c8-49f3-9560-f18d844a3c9f",
   "metadata": {},
   "outputs": [],
   "source": []
  },
  {
   "cell_type": "code",
   "execution_count": null,
   "id": "2ce1aaf3-1c5e-4375-86f6-1e8b20506632",
   "metadata": {},
   "outputs": [],
   "source": []
  },
  {
   "cell_type": "code",
   "execution_count": null,
   "id": "65c8fc43-41d1-4417-865e-69f9c080e35d",
   "metadata": {},
   "outputs": [],
   "source": []
  },
  {
   "cell_type": "code",
   "execution_count": null,
   "id": "fa987a12-8174-4ff6-b60d-97548b7ce2b8",
   "metadata": {},
   "outputs": [],
   "source": []
  },
  {
   "cell_type": "code",
   "execution_count": null,
   "id": "63a72e7d-c64a-4a30-8277-ebac1a884d9e",
   "metadata": {},
   "outputs": [],
   "source": []
  },
  {
   "cell_type": "code",
   "execution_count": null,
   "id": "ee9897f6-002c-4d38-b265-77a27e55615a",
   "metadata": {},
   "outputs": [],
   "source": []
  },
  {
   "cell_type": "code",
   "execution_count": null,
   "id": "41a76d3a-6f0e-4108-9eda-508c20aa2790",
   "metadata": {},
   "outputs": [],
   "source": []
  },
  {
   "cell_type": "code",
   "execution_count": null,
   "id": "72f2093f-d4ed-49b6-adb4-0f64a12c6293",
   "metadata": {},
   "outputs": [],
   "source": []
  },
  {
   "cell_type": "code",
   "execution_count": null,
   "id": "9a53e837-ee71-4510-a31e-fa1af0b44f52",
   "metadata": {},
   "outputs": [],
   "source": []
  },
  {
   "cell_type": "code",
   "execution_count": null,
   "id": "1ce4df0f-e522-4492-aa84-d9d2caa2f4b3",
   "metadata": {},
   "outputs": [],
   "source": []
  },
  {
   "cell_type": "code",
   "execution_count": null,
   "id": "ef53316f-b518-49ec-901e-77cfb5f58dcd",
   "metadata": {},
   "outputs": [],
   "source": []
  },
  {
   "cell_type": "code",
   "execution_count": null,
   "id": "3c80b484-b51a-471d-b767-03731e106af8",
   "metadata": {},
   "outputs": [],
   "source": []
  },
  {
   "cell_type": "code",
   "execution_count": null,
   "id": "cb422492-bd9b-4970-be57-a0cd97a6d1c4",
   "metadata": {},
   "outputs": [],
   "source": []
  },
  {
   "cell_type": "code",
   "execution_count": null,
   "id": "655a3935-bfc8-46d8-a0b7-80863fa4ca46",
   "metadata": {},
   "outputs": [],
   "source": []
  },
  {
   "cell_type": "code",
   "execution_count": null,
   "id": "4f34b883-af4c-44bf-9810-edf38d69b4f5",
   "metadata": {},
   "outputs": [],
   "source": []
  },
  {
   "cell_type": "code",
   "execution_count": null,
   "id": "5faac85f-5cb5-4d6c-a5d5-6db59370a44f",
   "metadata": {},
   "outputs": [],
   "source": []
  },
  {
   "cell_type": "code",
   "execution_count": null,
   "id": "1910b00f-b6d6-4807-94a6-1107efefd9f5",
   "metadata": {},
   "outputs": [],
   "source": []
  },
  {
   "cell_type": "code",
   "execution_count": null,
   "id": "d27e7d1c-540e-49dc-acbe-b38c16b01f61",
   "metadata": {},
   "outputs": [],
   "source": []
  },
  {
   "cell_type": "code",
   "execution_count": null,
   "id": "98f4fcee-93fb-4b5f-b4a8-e61ac6b62d4a",
   "metadata": {},
   "outputs": [],
   "source": []
  },
  {
   "cell_type": "code",
   "execution_count": null,
   "id": "b5f355df-4875-4a18-8cb9-2f1ba9e3c781",
   "metadata": {},
   "outputs": [],
   "source": []
  },
  {
   "cell_type": "code",
   "execution_count": null,
   "id": "8aa23ca1-d5c9-488c-bdf4-7018e350c010",
   "metadata": {},
   "outputs": [],
   "source": []
  },
  {
   "cell_type": "code",
   "execution_count": null,
   "id": "81e15ac8-7390-4aa9-9725-a07ccf9d1e19",
   "metadata": {},
   "outputs": [],
   "source": []
  },
  {
   "cell_type": "code",
   "execution_count": null,
   "id": "f0db2ec1-21d2-4fa0-84d7-a1e0ea07cb08",
   "metadata": {},
   "outputs": [],
   "source": []
  },
  {
   "cell_type": "code",
   "execution_count": null,
   "id": "a7a4cb62-6572-4e87-8c78-6bab922a1cb7",
   "metadata": {},
   "outputs": [],
   "source": []
  },
  {
   "cell_type": "code",
   "execution_count": null,
   "id": "574b000c-0914-4489-a84f-a9df6616b3a4",
   "metadata": {},
   "outputs": [],
   "source": []
  },
  {
   "cell_type": "code",
   "execution_count": null,
   "id": "e2446382-48c5-4538-a2af-4ea18c700249",
   "metadata": {},
   "outputs": [],
   "source": []
  },
  {
   "cell_type": "code",
   "execution_count": null,
   "id": "b2199911-d613-4fed-b39a-126f188f3448",
   "metadata": {},
   "outputs": [],
   "source": []
  },
  {
   "cell_type": "code",
   "execution_count": null,
   "id": "98a91e33-c355-4c5b-b995-6b15de296e21",
   "metadata": {},
   "outputs": [],
   "source": []
  },
  {
   "cell_type": "code",
   "execution_count": null,
   "id": "7e42ec9f-784d-42e8-b4a8-2fe08eedcd2b",
   "metadata": {},
   "outputs": [],
   "source": []
  },
  {
   "cell_type": "code",
   "execution_count": null,
   "id": "1b673eb4-eb69-406b-81be-100f798970b9",
   "metadata": {},
   "outputs": [],
   "source": []
  },
  {
   "cell_type": "code",
   "execution_count": null,
   "id": "b93bea79-6df1-4077-9323-03e243814810",
   "metadata": {},
   "outputs": [],
   "source": []
  },
  {
   "cell_type": "code",
   "execution_count": null,
   "id": "e0140ecd-f874-4b4e-8f9e-bda5205f2e79",
   "metadata": {},
   "outputs": [],
   "source": []
  },
  {
   "cell_type": "code",
   "execution_count": null,
   "id": "1c31129e-d19d-4273-a6a9-f249f49242e6",
   "metadata": {},
   "outputs": [],
   "source": []
  },
  {
   "cell_type": "code",
   "execution_count": null,
   "id": "66df44c9-61d1-44bb-af5e-39b9072467eb",
   "metadata": {},
   "outputs": [],
   "source": []
  },
  {
   "cell_type": "code",
   "execution_count": null,
   "id": "7908d607-e72f-48e1-b659-0bcfdfd2f759",
   "metadata": {},
   "outputs": [],
   "source": []
  },
  {
   "cell_type": "code",
   "execution_count": null,
   "id": "3ce98270-f840-49c6-be4e-84d5fc7317fe",
   "metadata": {},
   "outputs": [],
   "source": []
  },
  {
   "cell_type": "code",
   "execution_count": null,
   "id": "b212ac6e-4b49-482d-805c-9d608ec6772b",
   "metadata": {},
   "outputs": [],
   "source": []
  },
  {
   "cell_type": "code",
   "execution_count": null,
   "id": "586c2e06-0a1c-4db3-af44-94a92b976e23",
   "metadata": {},
   "outputs": [],
   "source": []
  },
  {
   "cell_type": "code",
   "execution_count": null,
   "id": "8f7502b7-7641-414b-8b76-ffb9e3dbdce9",
   "metadata": {},
   "outputs": [],
   "source": []
  },
  {
   "cell_type": "code",
   "execution_count": null,
   "id": "6ae8d9e8-18ec-4fb5-b6b4-80bb08bb8a3c",
   "metadata": {},
   "outputs": [],
   "source": []
  },
  {
   "cell_type": "code",
   "execution_count": null,
   "id": "83814744-059e-447a-b150-0158de62ab35",
   "metadata": {},
   "outputs": [],
   "source": []
  },
  {
   "cell_type": "code",
   "execution_count": null,
   "id": "efec0ca5-8e4d-498e-80fe-f6224d1f9e8e",
   "metadata": {},
   "outputs": [],
   "source": []
  },
  {
   "cell_type": "code",
   "execution_count": null,
   "id": "115a895d-88f5-4a37-baea-a1c17b054f3a",
   "metadata": {},
   "outputs": [],
   "source": []
  },
  {
   "cell_type": "code",
   "execution_count": null,
   "id": "1e4767b9-030b-414e-afed-48617b3deacc",
   "metadata": {},
   "outputs": [],
   "source": []
  },
  {
   "cell_type": "code",
   "execution_count": null,
   "id": "825fd1e5-84ca-48b6-bc67-20d0a6cceaaa",
   "metadata": {},
   "outputs": [],
   "source": []
  },
  {
   "cell_type": "code",
   "execution_count": null,
   "id": "ac18272f-b61e-417b-8e90-dfa9b3fd0494",
   "metadata": {},
   "outputs": [],
   "source": []
  },
  {
   "cell_type": "code",
   "execution_count": null,
   "id": "e28cf4fd-ea70-48a3-88b8-36c64978dcab",
   "metadata": {},
   "outputs": [],
   "source": []
  },
  {
   "cell_type": "code",
   "execution_count": null,
   "id": "b58f85d4-66dd-46fd-a899-d94c4df4ca73",
   "metadata": {},
   "outputs": [],
   "source": []
  },
  {
   "cell_type": "code",
   "execution_count": null,
   "id": "3779ae0f-5d5b-49b9-99b4-f792047b7e07",
   "metadata": {},
   "outputs": [],
   "source": []
  },
  {
   "cell_type": "code",
   "execution_count": null,
   "id": "2bdadcd3-81d0-4673-820a-cb65ec02727e",
   "metadata": {},
   "outputs": [],
   "source": []
  },
  {
   "cell_type": "code",
   "execution_count": null,
   "id": "cc247f90-5e6e-4068-af80-452aabe7ddd4",
   "metadata": {},
   "outputs": [],
   "source": []
  },
  {
   "cell_type": "code",
   "execution_count": null,
   "id": "128bd145-8df6-4ef4-b1d1-6bd8f5157ab8",
   "metadata": {},
   "outputs": [],
   "source": []
  },
  {
   "cell_type": "code",
   "execution_count": null,
   "id": "d1fa5731-ce6c-4e99-a5d2-74e8299acbb7",
   "metadata": {},
   "outputs": [],
   "source": []
  },
  {
   "cell_type": "code",
   "execution_count": null,
   "id": "40d0b8d2-f42a-4ba7-94eb-c613f9ab5a14",
   "metadata": {},
   "outputs": [],
   "source": []
  },
  {
   "cell_type": "code",
   "execution_count": null,
   "id": "c808aba5-7003-4f4a-860b-92e848a1f0f3",
   "metadata": {},
   "outputs": [],
   "source": []
  },
  {
   "cell_type": "code",
   "execution_count": null,
   "id": "c7e4abdd-f76e-40ff-91c6-e512b11e369d",
   "metadata": {},
   "outputs": [],
   "source": []
  },
  {
   "cell_type": "code",
   "execution_count": null,
   "id": "055d7068-c46d-42c3-8d39-a0724ba6cadb",
   "metadata": {},
   "outputs": [],
   "source": []
  }
 ],
 "metadata": {
  "kernelspec": {
   "display_name": "top_vistos_venv",
   "language": "python",
   "name": "top_vistos_venv"
  },
  "language_info": {
   "codemirror_mode": {
    "name": "ipython",
    "version": 3
   },
   "file_extension": ".py",
   "mimetype": "text/x-python",
   "name": "python",
   "nbconvert_exporter": "python",
   "pygments_lexer": "ipython3",
   "version": "3.11.2"
  }
 },
 "nbformat": 4,
 "nbformat_minor": 5
}
